{
  "nbformat": 4,
  "nbformat_minor": 0,
  "metadata": {
    "colab": {
      "provenance": []
    },
    "kernelspec": {
      "name": "python3",
      "display_name": "Python 3"
    },
    "language_info": {
      "name": "python"
    }
  },
  "cells": [
    {
      "cell_type": "code",
      "execution_count": 65,
      "metadata": {
        "id": "IoZmpCKGomUY"
      },
      "outputs": [],
      "source": [
        "import numpy as np"
      ]
    },
    {
      "cell_type": "code",
      "source": [
        "np.random.seed(1)   #Ocupar los mismos numeros random\n",
        "np.random.randint(1,21, size=15)"
      ],
      "metadata": {
        "colab": {
          "base_uri": "https://localhost:8080/"
        },
        "id": "LwqdUDWoop7n",
        "outputId": "28a34e93-4552-4a55-fcb1-901ac8794f68"
      },
      "execution_count": 66,
      "outputs": [
        {
          "output_type": "execute_result",
          "data": {
            "text/plain": [
              "array([ 6, 12, 13,  9, 10, 12,  6, 16,  1, 17,  2, 13,  8, 14,  7])"
            ]
          },
          "metadata": {},
          "execution_count": 66
        }
      ]
    },
    {
      "cell_type": "code",
      "source": [
        "L=[i for i in np.random.randint(1, 21, size=40) if i%2==0] #Elige numeros ala azar del 1-20, hace 40 numeros y elige 20\n",
        "L.sort() #ACOMODA LOS ELEMENTOS DE MENOR A MAYOR\n",
        "L"
      ],
      "metadata": {
        "colab": {
          "base_uri": "https://localhost:8080/"
        },
        "id": "ACXdHvJNoz3Y",
        "outputId": "024e64f0-d51c-4ec3-ee33-c1ec67d8174b"
      },
      "execution_count": 67,
      "outputs": [
        {
          "output_type": "execute_result",
          "data": {
            "text/plain": [
              "[2,\n",
              " 4,\n",
              " 4,\n",
              " 6,\n",
              " 8,\n",
              " 8,\n",
              " 10,\n",
              " 10,\n",
              " 10,\n",
              " 10,\n",
              " 12,\n",
              " 12,\n",
              " 14,\n",
              " 14,\n",
              " 14,\n",
              " 16,\n",
              " 16,\n",
              " 18,\n",
              " 18,\n",
              " 18,\n",
              " 18,\n",
              " 20,\n",
              " 20]"
            ]
          },
          "metadata": {},
          "execution_count": 67
        }
      ]
    },
    {
      "cell_type": "code",
      "source": [
        "L+[4]"
      ],
      "metadata": {
        "colab": {
          "base_uri": "https://localhost:8080/"
        },
        "id": "R3kdNHphvAXF",
        "outputId": "d71b2ec2-f220-413b-f6b4-e0c54206f5fb"
      },
      "execution_count": 68,
      "outputs": [
        {
          "output_type": "execute_result",
          "data": {
            "text/plain": [
              "[2,\n",
              " 4,\n",
              " 4,\n",
              " 6,\n",
              " 8,\n",
              " 8,\n",
              " 10,\n",
              " 10,\n",
              " 10,\n",
              " 10,\n",
              " 12,\n",
              " 12,\n",
              " 14,\n",
              " 14,\n",
              " 14,\n",
              " 16,\n",
              " 16,\n",
              " 18,\n",
              " 18,\n",
              " 18,\n",
              " 18,\n",
              " 20,\n",
              " 20,\n",
              " 4]"
            ]
          },
          "metadata": {},
          "execution_count": 68
        }
      ]
    },
    {
      "cell_type": "code",
      "source": [
        "L.pop(1) #Te da el numero en i posicion, si lo corres nuevamente la siguiente"
      ],
      "metadata": {
        "colab": {
          "base_uri": "https://localhost:8080/"
        },
        "id": "SkHYceaypcpY",
        "outputId": "d7ab3fc2-856a-4476-9a67-4241f67e4760"
      },
      "execution_count": 69,
      "outputs": [
        {
          "output_type": "execute_result",
          "data": {
            "text/plain": [
              "4"
            ]
          },
          "metadata": {},
          "execution_count": 69
        }
      ]
    },
    {
      "cell_type": "code",
      "source": [
        "L_matriz = np.array(L) #Convertir una lista en vector\n",
        "L_matriz"
      ],
      "metadata": {
        "colab": {
          "base_uri": "https://localhost:8080/"
        },
        "id": "7S6WHEBjwieL",
        "outputId": "dc57bb5a-32f4-4ac5-ab0b-7abee2ba7e2c"
      },
      "execution_count": 70,
      "outputs": [
        {
          "output_type": "execute_result",
          "data": {
            "text/plain": [
              "array([ 2,  4,  6,  8,  8, 10, 10, 10, 10, 12, 12, 14, 14, 14, 16, 16, 18,\n",
              "       18, 18, 18, 20, 20])"
            ]
          },
          "metadata": {},
          "execution_count": 70
        }
      ]
    },
    {
      "cell_type": "code",
      "source": [
        "L_matriz = L_matriz.reshape(11,2) #filas por columnas"
      ],
      "metadata": {
        "id": "2_oL-SL2xWLj"
      },
      "execution_count": 74,
      "outputs": []
    },
    {
      "cell_type": "code",
      "source": [
        "M_matriz = np.array([2,3,14,19,13,0,25,6,]).reshape(2,4)\n",
        "\n",
        "M_matriz"
      ],
      "metadata": {
        "colab": {
          "base_uri": "https://localhost:8080/"
        },
        "id": "ZIHQCvm92Azh",
        "outputId": "21e58fcb-65b3-4ffe-c8e1-f826907d998a"
      },
      "execution_count": 75,
      "outputs": [
        {
          "output_type": "execute_result",
          "data": {
            "text/plain": [
              "array([[ 2,  3, 14, 19],\n",
              "       [13,  0, 25,  6]])"
            ]
          },
          "metadata": {},
          "execution_count": 75
        }
      ]
    },
    {
      "cell_type": "code",
      "source": [
        "N = L_matriz @ M_matriz #se multipluixan matrizes\n",
        "N"
      ],
      "metadata": {
        "colab": {
          "base_uri": "https://localhost:8080/"
        },
        "id": "3-qhS6cP3Gmo",
        "outputId": "3f9931fb-e031-4f58-e902-c434f4dbe7cb"
      },
      "execution_count": 76,
      "outputs": [
        {
          "output_type": "execute_result",
          "data": {
            "text/plain": [
              "array([[ 56,   6, 128,  62],\n",
              "       [116,  18, 284, 162],\n",
              "       [146,  24, 362, 212],\n",
              "       [150,  30, 390, 250],\n",
              "       [176,  30, 440, 262],\n",
              "       [206,  36, 518, 312],\n",
              "       [210,  42, 546, 350],\n",
              "       [240,  48, 624, 400],\n",
              "       [270,  54, 702, 450],\n",
              "       [270,  54, 702, 450],\n",
              "       [300,  60, 780, 500]])"
            ]
          },
          "metadata": {},
          "execution_count": 76
        }
      ]
    }
  ]
}