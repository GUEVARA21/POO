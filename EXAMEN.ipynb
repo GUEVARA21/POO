{
  "nbformat": 4,
  "nbformat_minor": 0,
  "metadata": {
    "colab": {
      "provenance": []
    },
    "kernelspec": {
      "name": "python3",
      "display_name": "Python 3"
    },
    "language_info": {
      "name": "python"
    }
  },
  "cells": [
    {
      "cell_type": "markdown",
      "source": [
        "-Areas, perimetros de triangulos equilatero\n",
        "\n",
        "-Recibe una lista de 16 elementos, la transforme en una matriz de tamaño 4x4\n",
        "\n",
        "-Funcion que calcule el determinante (np.linalg.det(a))"
      ],
      "metadata": {
        "id": "53PhOfwunmAP"
      }
    },
    {
      "cell_type": "code",
      "source": [
        "import numpy as np #se importan las funciones numpy\n",
        "\n",
        "class Formula:\n",
        "    def __init__(self, lado, lista):  #Se inicializa el programa con las variables, es la clase madre\n",
        "        self.lado = lado\n",
        "        self.lista = lista\n",
        "\n",
        "class Determinant(Formula): #clase heredada\n",
        "    def lista_matriz(self):\n",
        "\n",
        "        matriz = np.array(self.lista).reshape(4, 4) #se hace una matriz 4x4\n",
        "        determinante = np.linalg.det(matriz) #se calcula el determinante con funcion de la biblioteca numpy\n",
        "        print(\"Matriz:\")\n",
        "        print(matriz)\n",
        "        print(\"Determinante:\", determinante)\n",
        "\n",
        "lista = [6, 8, 3, 4, 9, 6, 7, 8, 9, 10, 8, 7, 8, 46, 15, 16]\n",
        "\n",
        "class AreaPerimetro(Formula): #clase heredada\n",
        "    def __init__(self, lado):\n",
        "        super().__init__(lado, None) #Se utiliza las variables anteriores y el valor lista se considera nulo porque no se ocupa\n",
        "\n",
        "    def perimetro(self): #Se crean polimorfismos de permitro\n",
        "        perimetro = 3 * self.lado\n",
        "        print(\"Perímetro:\", perimetro)\n",
        "\n",
        "    def area(self): #Se crea otro polimorfismo de area\n",
        "        area = (self.lado**2 * np.sqrt(3)) / 4\n",
        "        print(\"Área:\", area)\n",
        "\n",
        "side = float(input(\"Introduce la longitud del lado: \")) #se pide introduzir el lado\n",
        "\n",
        "# se calcula el determinante\n",
        "det = Determinant(side, lista)\n",
        "det.lista_matriz()\n",
        "\n",
        "# se calcula el perimetro\n",
        "calculadora = AreaPerimetro(side)\n",
        "\n",
        "# Se pide el valor de la calculador\n",
        "calculadora.perimetro()\n",
        "calculadora.area()"
      ],
      "metadata": {
        "colab": {
          "base_uri": "https://localhost:8080/"
        },
        "id": "LpJY67nj75tr",
        "outputId": "445442c5-abfb-456e-adc2-901d6bd87140"
      },
      "execution_count": 43,
      "outputs": [
        {
          "output_type": "stream",
          "name": "stdout",
          "text": [
            "Introduce la longitud del lado: 5\n",
            "Matriz:\n",
            "[[ 6  8  3  4]\n",
            " [ 9  6  7  8]\n",
            " [ 9 10  8  7]\n",
            " [ 8 46 15 16]]\n",
            "Determinante: -1846.0000000000011\n",
            "Perímetro: 15.0\n",
            "Área: 10.825317547305483\n"
          ]
        }
      ]
    }
  ]
}