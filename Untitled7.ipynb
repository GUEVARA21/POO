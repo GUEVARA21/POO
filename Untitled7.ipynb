{
  "nbformat": 4,
  "nbformat_minor": 0,
  "metadata": {
    "colab": {
      "provenance": []
    },
    "kernelspec": {
      "name": "python3",
      "display_name": "Python 3"
    },
    "language_info": {
      "name": "python"
    }
  },
  "cells": [
    {
      "cell_type": "code",
      "execution_count": null,
      "metadata": {
        "id": "9McWeEx4Yosp"
      },
      "outputs": [],
      "source": []
    },
    {
      "cell_type": "markdown",
      "source": [
        "#Clases , herencias y polimorfismo"
      ],
      "metadata": {
        "id": "LBCYHycvZSU-"
      }
    },
    {
      "cell_type": "markdown",
      "source": [
        "Mas de una funcion es un polimorfismos"
      ],
      "metadata": {
        "id": "GrFNgiFIZvuU"
      }
    },
    {
      "cell_type": "code",
      "source": [],
      "metadata": {
        "id": "Cb4h47NzZZiu"
      },
      "execution_count": null,
      "outputs": []
    },
    {
      "cell_type": "code",
      "source": [
        "class Mascota(): #Clase llamada mascota #LAS CLASE MADRES EMPIEZAN CON MAYUSCULA\n",
        "  def __init__(self): #Inicializador de las funciones de la clase\n",
        "    print(\"Creamos una clase madre\")\n",
        "  def adivina(self): #Polimorfimo\n",
        "    print(\"Hola,soy un perro\")\n",
        "  def hablar(self): #Polimorfismo\n",
        "    print(\"Ladro\")\n",
        "  def tigre(self): #Polimorfismo\n",
        "    print(\"RARR\")\n",
        "  def orangutan(self): #Polimorfismo\n",
        "    print(\"UGABUGA\")"
      ],
      "metadata": {
        "id": "11ezGIvaZ1te"
      },
      "execution_count": 7,
      "outputs": []
    },
    {
      "cell_type": "code",
      "source": [
        "mascota = Mascota()"
      ],
      "metadata": {
        "colab": {
          "base_uri": "https://localhost:8080/"
        },
        "id": "1qQlTYcCdUBh",
        "outputId": "a10162d8-86b4-4ccf-c962-ad5c2d640ab1"
      },
      "execution_count": 9,
      "outputs": [
        {
          "output_type": "stream",
          "name": "stdout",
          "text": [
            "Creamos una clase madre\n"
          ]
        }
      ]
    },
    {
      "cell_type": "code",
      "source": [
        "mascota.adivina() #corres una función dentro de la clase(polimorfismo) mascota"
      ],
      "metadata": {
        "colab": {
          "base_uri": "https://localhost:8080/"
        },
        "id": "SeR_S6MrdxIZ",
        "outputId": "23f47c4e-d4d3-4147-924e-7e5427a289ff"
      },
      "execution_count": 3,
      "outputs": [
        {
          "output_type": "stream",
          "name": "stdout",
          "text": [
            "Hola,soy un perro\n"
          ]
        }
      ]
    },
    {
      "cell_type": "code",
      "source": [
        "mascota.orangutan()"
      ],
      "metadata": {
        "colab": {
          "base_uri": "https://localhost:8080/"
        },
        "id": "FCEGROxRgHk0",
        "outputId": "1abdeb7c-d4b4-4ec1-e9c5-eb40c9c75f17"
      },
      "execution_count": 4,
      "outputs": [
        {
          "output_type": "stream",
          "name": "stdout",
          "text": [
            "UGABUGA\n"
          ]
        }
      ]
    },
    {
      "cell_type": "code",
      "source": [
        "mascota.tigre()"
      ],
      "metadata": {
        "colab": {
          "base_uri": "https://localhost:8080/"
        },
        "id": "0cfZbElYgIAd",
        "outputId": "70b86a6f-12e9-4953-ac25-c5be4e5b6612"
      },
      "execution_count": 5,
      "outputs": [
        {
          "output_type": "stream",
          "name": "stdout",
          "text": [
            "RARR\n"
          ]
        }
      ]
    },
    {
      "cell_type": "markdown",
      "source": [
        "#Crear una clase herencia"
      ],
      "metadata": {
        "id": "TgHEDhL7g5jl"
      }
    },
    {
      "cell_type": "code",
      "source": [
        "class Perro(Mascota): #Se hace una clase heredada\n",
        "  def __init__(self): #Traemos las funciones creadas en la claseanterior\n",
        "    Mascota.__init__(self)\n",
        "    print(\"Creamos una clase heredada\")\n",
        "  def nombre(self):\n",
        "    print(\"Luna\")\n",
        "  def idioma(self):\n",
        "    print(\"WUAF\")\n",
        "  def bicho(self):\n",
        "    print(\"SIUUUUUUUUUUUUUUUUUUUUUUUUUUUUUUUUUUUUUUUU!\")\n",
        "  def adivina(self):\n",
        "    print(\"Golden\")\n",
        ""
      ],
      "metadata": {
        "id": "fEQm9Obngpx-"
      },
      "execution_count": 20,
      "outputs": []
    },
    {
      "cell_type": "code",
      "source": [
        "perro = Perro()"
      ],
      "metadata": {
        "colab": {
          "base_uri": "https://localhost:8080/"
        },
        "id": "eQ-l2K5lizr8",
        "outputId": "aaec2fd4-f254-4b65-ae1b-4e2b1cf1d6ba"
      },
      "execution_count": 21,
      "outputs": [
        {
          "output_type": "stream",
          "name": "stdout",
          "text": [
            "Creamos una clase madre\n",
            "Creamos una clase heredada\n"
          ]
        }
      ]
    },
    {
      "cell_type": "code",
      "source": [
        "perro.adivina()"
      ],
      "metadata": {
        "colab": {
          "base_uri": "https://localhost:8080/"
        },
        "id": "e3KkUSKkkJaI",
        "outputId": "875fb856-36bb-4ce2-9ff6-cd7ec5e66558"
      },
      "execution_count": 22,
      "outputs": [
        {
          "output_type": "stream",
          "name": "stdout",
          "text": [
            "Golden\n"
          ]
        }
      ]
    },
    {
      "cell_type": "code",
      "source": [
        "class Jose():\n",
        "  def __init__(self):\n",
        "    print(\"Hola soy josemiguel\")\n",
        "  def deporte(self): #Polimorfimo\n",
        "    print(\"Basquet\")\n",
        "  def juego(self): #Polimorfimo\n",
        "    print(\"Ajedrez\")"
      ],
      "metadata": {
        "id": "OuHh3B1JmsRK"
      },
      "execution_count": 30,
      "outputs": []
    },
    {
      "cell_type": "code",
      "source": [
        "class Comida(Jose):\n",
        "  def __init__(self):\n",
        "    Jose.__init__(self)\n",
        "    print(\"Creamos una clase heredada\")\n",
        "  def comida(self):\n",
        "    print(\"Hamburguesa\")\n",
        "  def cena(self):\n",
        "    print(\"Pizza\")\n",
        ""
      ],
      "metadata": {
        "id": "-XdRVYFbnNoB"
      },
      "execution_count": 31,
      "outputs": []
    },
    {
      "cell_type": "code",
      "source": [
        "jose = Jose()"
      ],
      "metadata": {
        "colab": {
          "base_uri": "https://localhost:8080/"
        },
        "id": "You8oMNMnbfP",
        "outputId": "809074d2-e840-409c-ab47-8cbb1842d62b"
      },
      "execution_count": 33,
      "outputs": [
        {
          "output_type": "stream",
          "name": "stdout",
          "text": [
            "Hola soy josemiguel\n"
          ]
        }
      ]
    },
    {
      "cell_type": "code",
      "source": [
        "jose.deporte()"
      ],
      "metadata": {
        "colab": {
          "base_uri": "https://localhost:8080/"
        },
        "id": "wby4jzg5ncAX",
        "outputId": "b907e6cf-b7de-4eb7-9b66-a8c5771556aa"
      },
      "execution_count": 38,
      "outputs": [
        {
          "output_type": "stream",
          "name": "stdout",
          "text": [
            "Basquet\n"
          ]
        }
      ]
    },
    {
      "cell_type": "code",
      "source": [
        "jose.juego()"
      ],
      "metadata": {
        "colab": {
          "base_uri": "https://localhost:8080/"
        },
        "id": "LjM5OZnnoAxx",
        "outputId": "7f2fdccf-7557-493d-dab4-574bc714fa3e"
      },
      "execution_count": 39,
      "outputs": [
        {
          "output_type": "stream",
          "name": "stdout",
          "text": [
            "Ajedrez\n"
          ]
        }
      ]
    },
    {
      "cell_type": "code",
      "source": [
        "comida=Comida()"
      ],
      "metadata": {
        "colab": {
          "base_uri": "https://localhost:8080/"
        },
        "id": "ElGpx7I2oD5I",
        "outputId": "64662e92-65a0-4cdd-e30e-aaea69625e9a"
      },
      "execution_count": 40,
      "outputs": [
        {
          "output_type": "stream",
          "name": "stdout",
          "text": [
            "Hola soy josemiguel\n",
            "Creamos una clase heredada\n"
          ]
        }
      ]
    },
    {
      "cell_type": "code",
      "source": [
        "comida.comida()"
      ],
      "metadata": {
        "colab": {
          "base_uri": "https://localhost:8080/"
        },
        "id": "Tq6kLaTmoKdJ",
        "outputId": "8c41f565-3cae-42c7-f2e4-fd04f7409e42"
      },
      "execution_count": 41,
      "outputs": [
        {
          "output_type": "stream",
          "name": "stdout",
          "text": [
            "Hamburguesa\n"
          ]
        }
      ]
    }
  ]
}